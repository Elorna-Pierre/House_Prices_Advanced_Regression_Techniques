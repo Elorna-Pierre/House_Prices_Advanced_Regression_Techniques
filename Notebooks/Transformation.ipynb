{
 "cells": [
  {
   "cell_type": "markdown",
   "metadata": {},
   "source": [
    "### Data Cleaning and Transformation \n",
    "\n",
    "I will be cleaning the dataset, filling in missing values, and preparing the data so machine learning models can understand it."
   ]
  },
  {
   "cell_type": "code",
   "execution_count": 19,
   "metadata": {},
   "outputs": [],
   "source": [
    "import pandas as pd\n",
    "import numpy as np\n",
    "import matplotlib.pyplot as plt\n",
    "import seaborn as sns"
   ]
  },
  {
   "cell_type": "code",
   "execution_count": 20,
   "metadata": {},
   "outputs": [],
   "source": [
    "# Load the dataset\n",
    "df = pd.read_csv('/Users/sa3/Desktop/House Prices - Advanced Regression Techniques/Data/train.csv')"
   ]
  },
  {
   "cell_type": "code",
   "execution_count": 21,
   "metadata": {},
   "outputs": [],
   "source": [
    "# Keep only selected columns\n",
    "selected_columns = [\n",
    "    'SalePrice', 'OverallQual', 'GrLivArea', 'GarageCars', 'GarageArea',\n",
    "    'TotalBsmtSF', '1stFlrSF', 'FullBath', 'TotRmsAbvGrd', \n",
    "    'YearBuilt', 'YearRemodAdd'\n",
    "]\n",
    "\n",
    "df = df[selected_columns]"
   ]
  },
  {
   "cell_type": "code",
   "execution_count": 22,
   "metadata": {},
   "outputs": [
    {
     "name": "stdout",
     "output_type": "stream",
     "text": [
      "Missing values:\n",
      " SalePrice       0\n",
      "OverallQual     0\n",
      "GrLivArea       0\n",
      "GarageCars      0\n",
      "GarageArea      0\n",
      "TotalBsmtSF     0\n",
      "1stFlrSF        0\n",
      "FullBath        0\n",
      "TotRmsAbvGrd    0\n",
      "YearBuilt       0\n",
      "YearRemodAdd    0\n",
      "dtype: int64\n"
     ]
    }
   ],
   "source": [
    "#Check for missing values\n",
    "print(\"Missing values:\\n\", df.isnull().sum())"
   ]
  },
  {
   "cell_type": "code",
   "execution_count": 23,
   "metadata": {},
   "outputs": [],
   "source": [
    "#Fill or drop missing values\n",
    "df = df.dropna()"
   ]
  },
  {
   "cell_type": "code",
   "execution_count": 24,
   "metadata": {},
   "outputs": [
    {
     "name": "stdout",
     "output_type": "stream",
     "text": [
      "Cleaned data shape: (1460, 12)\n"
     ]
    }
   ],
   "source": [
    "#Log of SalePrice to reduce skew\n",
    "df['LogSalePrice'] = np.log1p(df['SalePrice'])\n",
    "\n",
    "#Save the clean data to a new CSV file\n",
    "df.to_csv('cleaned_data.csv', index=False)\n",
    "\n",
    "#Show the size of the new data\n",
    "print(\"Cleaned data shape:\", df.shape)\n"
   ]
  }
 ],
 "metadata": {
  "kernelspec": {
   "display_name": "base",
   "language": "python",
   "name": "python3"
  },
  "language_info": {
   "codemirror_mode": {
    "name": "ipython",
    "version": 3
   },
   "file_extension": ".py",
   "mimetype": "text/x-python",
   "name": "python",
   "nbconvert_exporter": "python",
   "pygments_lexer": "ipython3",
   "version": "3.12.4"
  }
 },
 "nbformat": 4,
 "nbformat_minor": 2
}
